{
  "nbformat": 4,
  "nbformat_minor": 0,
  "metadata": {
    "colab": {
      "name": "TensorFlow_For_Poets.ipynb",
      "provenance": [],
      "collapsed_sections": [],
      "include_colab_link": true
    },
    "kernelspec": {
      "name": "python3",
      "display_name": "Python 3"
    }
  },
  "cells": [
    {
      "cell_type": "markdown",
      "metadata": {
        "id": "view-in-github",
        "colab_type": "text"
      },
      "source": [
        "<a href=\"https://colab.research.google.com/github/RocioLiu/TensorFlow_Specialization/blob/master/TensorFlow_For_Poets.ipynb\" target=\"_parent\"><img src=\"https://colab.research.google.com/assets/colab-badge.svg\" alt=\"Open In Colab\"/></a>"
      ]
    },
    {
      "cell_type": "markdown",
      "metadata": {
        "id": "60Y42Fe6AFYK",
        "colab_type": "text"
      },
      "source": [
        "# TensorFlow For Poets\n"
      ]
    },
    {
      "cell_type": "markdown",
      "metadata": {
        "id": "6LKtr8YVAQbF",
        "colab_type": "text"
      },
      "source": [
        "## 1. Introduction\n",
        "TensorFlow is an open source library for numerical computation, specializing in machine learning applications.\n",
        "\n",
        "### What you will build\n",
        "In this codelab, you will learn how to run TensorFlow on a single machine, and will train a simple classifier to classify images of flowers.\n",
        "\n",
        "We will be using transfer learning, which means we are starting with a model that has been already trained on another problem. We will then retrain it on a similar problem. Deep learning from scratch can take days, but transfer learning can be done in short order.\n",
        "\n",
        "We are going to use a model trained on the ImageNet Large Visual Recognition Challenge dataset. These models can differentiate between 1,000 different classes, like Dalmatian or dishwasher. You will have a choice of model architectures, so you can determine the right tradeoff between speed, size and accuracy for your problem.\n",
        "\n",
        "We will use this same model, but retrain it to tell apart a small number of classes based on our own examples.\n",
        "\n",
        "### What you'll Learn\n",
        "How to use Python and TensorFlow to train an image classifier\n",
        "How to classify images with your trained classifier\n",
        "### What you need\n",
        "A basic understanding of Linux commands\n",
        "Back\n"
      ]
    },
    {
      "cell_type": "markdown",
      "metadata": {
        "id": "VxSLyQsMBiQO",
        "colab_type": "text"
      },
      "source": [
        "## 2. Setup\n",
        "Install TensorFlow\n",
        "Before we can begin the tutorial you need to install TensorFlow version 1.7.\n",
        "\n",
        "This codelab was tested on TensorFlow 1.7\n",
        "```\n",
        "> pip install --upgrade \"tensorflow==1.7.*\"\n",
        "```\n",
        "\n",
        "### Clone the git repository\n",
        "All the code used in this codelab is contained in this git repository. Clone the repository and cd into it. This is where we will be working.\n",
        "```\n",
        "git clone https://github.com/googlecodelabs/tensorflow-for-poets-2\n",
        "cd tensorflow-for-poets-2\n",
        "```"
      ]
    },
    {
      "cell_type": "code",
      "metadata": {
        "id": "5ncqHgHhAAaB",
        "colab_type": "code",
        "colab": {}
      },
      "source": [
        ""
      ],
      "execution_count": 0,
      "outputs": []
    }
  ]
}