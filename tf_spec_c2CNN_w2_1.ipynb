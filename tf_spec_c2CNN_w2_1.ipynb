{
  "nbformat": 4,
  "nbformat_minor": 0,
  "metadata": {
    "colab": {
      "name": "tf_spec_c2CNN_w2-1.ipynb",
      "version": "0.3.2",
      "provenance": [],
      "collapsed_sections": [],
      "toc_visible": true,
      "include_colab_link": true
    },
    "kernelspec": {
      "name": "python3",
      "display_name": "Python 3"
    },
    "accelerator": "TPU"
  },
  "cells": [
    {
      "cell_type": "markdown",
      "metadata": {
        "id": "view-in-github",
        "colab_type": "text"
      },
      "source": [
        "<a href=\"https://colab.research.google.com/github/RocioLiu/TensorFlow_Specialization/blob/master/tf_spec_c2CNN_w2_1.ipynb\" target=\"_parent\"><img src=\"https://colab.research.google.com/assets/colab-badge.svg\" alt=\"Open In Colab\"/></a>"
      ]
    },
    {
      "cell_type": "markdown",
      "metadata": {
        "id": "tqZR9kKCzIT6",
        "colab_type": "text"
      },
      "source": [
        "## Cats v Dogs Augmentation"
      ]
    },
    {
      "cell_type": "markdown",
      "metadata": {
        "id": "qOAQEloeuOi2",
        "colab_type": "text"
      },
      "source": [
        "Let's start with a model that's very effective at learning Cats v Dogs.\n",
        "\n",
        "It's similar to the previous models that you have used, but I have updated the layers definition. Note that there are now 4 convolutional layers with 32, 64, 128 and 128 convolutions respectively.\n",
        "\n",
        "Also, this will train for 100 epochs, because I want to plot the graph of loss and accuracy."
      ]
    },
    {
      "cell_type": "code",
      "metadata": {
        "id": "oyiw7ggYuNOe",
        "colab_type": "code",
        "outputId": "2782b1a0-361b-4bac-901e-6460f035ec88",
        "colab": {
          "base_uri": "https://localhost:8080/",
          "height": 202
        }
      },
      "source": [
        "!wget --no-check-certificate \\\n",
        "    https://storage.googleapis.com/mledu-datasets/cats_and_dogs_filtered.zip \\\n",
        "    -O /tmp/cats_and_dogs_filtered.zip"
      ],
      "execution_count": 0,
      "outputs": [
        {
          "output_type": "stream",
          "text": [
            "--2019-07-12 01:25:10--  https://storage.googleapis.com/mledu-datasets/cats_and_dogs_filtered.zip\n",
            "Resolving storage.googleapis.com (storage.googleapis.com)... 108.177.112.128, 2607:f8b0:4001:c03::80\n",
            "Connecting to storage.googleapis.com (storage.googleapis.com)|108.177.112.128|:443... connected.\n",
            "HTTP request sent, awaiting response... 200 OK\n",
            "Length: 68606236 (65M) [application/zip]\n",
            "Saving to: ‘/tmp/cats_and_dogs_filtered.zip’\n",
            "\n",
            "/tmp/cats_and_dogs_ 100%[===================>]  65.43M   102MB/s    in 0.6s    \n",
            "\n",
            "2019-07-12 01:25:11 (102 MB/s) - ‘/tmp/cats_and_dogs_filtered.zip’ saved [68606236/68606236]\n",
            "\n"
          ],
          "name": "stdout"
        }
      ]
    },
    {
      "cell_type": "code",
      "metadata": {
        "id": "SNvixliyqh_j",
        "colab_type": "code",
        "colab": {}
      },
      "source": [
        "#import shutil\n",
        "#shutil.rmtree('/tmp/cats_and_dogs_filtered') "
      ],
      "execution_count": 0,
      "outputs": []
    },
    {
      "cell_type": "code",
      "metadata": {
        "id": "TscT1M9puTmE",
        "colab_type": "code",
        "colab": {}
      },
      "source": [
        "import os\n",
        "import tensorflow as tf\n",
        "import zipfile\n",
        "from tensorflow.keras.optimizers import RMSprop\n",
        "from tensorflow.keras.preprocessing.image import ImageDataGenerator"
      ],
      "execution_count": 0,
      "outputs": []
    },
    {
      "cell_type": "code",
      "metadata": {
        "id": "wTFnyH_su1zJ",
        "colab_type": "code",
        "colab": {}
      },
      "source": [
        "local_zip = '/tmp/cats_and_dogs_filtered.zip'\n",
        "zip_ref = zipfile.ZipFile(local_zip, 'r')\n",
        "zip_ref.extractall('/tmp')\n",
        "zip_ref.close()"
      ],
      "execution_count": 0,
      "outputs": []
    },
    {
      "cell_type": "code",
      "metadata": {
        "id": "DlMG1WCqyO6g",
        "colab_type": "code",
        "colab": {}
      },
      "source": [
        "base_dir = '/tmp/cats_and_dogs_filtered'\n",
        "train_dir = os.path.join(base_dir, 'train')\n",
        "validation_dir = os.path.join(base_dir, 'validation')"
      ],
      "execution_count": 0,
      "outputs": []
    },
    {
      "cell_type": "code",
      "metadata": {
        "id": "kgcq16Bey9pO",
        "colab_type": "code",
        "colab": {}
      },
      "source": [
        "# Directory with our training cat pictures\n",
        "train_cats_dir = os.path.join(train_dir, 'cats')\n",
        "\n",
        "# Directory with our training dog pictures\n",
        "train_dogs_dir = os.path.join(train_dir, 'dogs')\n",
        "\n",
        "# Directory with our validation cat pictures\n",
        "validation_cats_dir = os.path.join(validation_dir, 'cats')\n",
        "\n",
        "# Directory with our validation dog pictures\n",
        "validation_dogs_dir = os.path.join(validation_dir, 'dogs')"
      ],
      "execution_count": 0,
      "outputs": []
    },
    {
      "cell_type": "code",
      "metadata": {
        "id": "Dq2rzKpXz-aA",
        "colab_type": "code",
        "colab": {}
      },
      "source": [
        "model = tf.keras.models.Sequential([\n",
        "    tf.keras.layers.Conv2D(32, (3,3), activation = 'relu', input_shape=(150,150,3)),\n",
        "    tf.keras.layers.MaxPooling2D(2,2),\n",
        "    tf.keras.layers.Conv2D(64, (3,3), activation = 'relu'),\n",
        "    tf.keras.layers.MaxPooling2D(2,2),\n",
        "    tf.keras.layers.Conv2D(128, (3,3), activation = 'relu'),\n",
        "    tf.keras.layers.MaxPooling2D(2,2),\n",
        "    tf.keras.layers.Conv2D(128, (3,3), activation = 'relu'),\n",
        "    tf.keras.layers.MaxPooling2D(2,2),\n",
        "    tf.keras.layers.Flatten(),\n",
        "    tf.keras.layers.Dense(512, activation = 'relu'),\n",
        "    tf.keras.layers.Dense(1, activation = 'sigmoid')\n",
        "])"
      ],
      "execution_count": 0,
      "outputs": []
    },
    {
      "cell_type": "code",
      "metadata": {
        "id": "l1vpp0vvToWl",
        "colab_type": "code",
        "outputId": "88471df1-c5b3-4b7c-8a15-c39a0ffe49f4",
        "colab": {
          "base_uri": "https://localhost:8080/",
          "height": 521
        }
      },
      "source": [
        "model.summary()"
      ],
      "execution_count": 0,
      "outputs": [
        {
          "output_type": "stream",
          "text": [
            "Model: \"sequential_2\"\n",
            "_________________________________________________________________\n",
            "Layer (type)                 Output Shape              Param #   \n",
            "=================================================================\n",
            "conv2d_8 (Conv2D)            (None, 148, 148, 32)      896       \n",
            "_________________________________________________________________\n",
            "max_pooling2d_8 (MaxPooling2 (None, 74, 74, 32)        0         \n",
            "_________________________________________________________________\n",
            "conv2d_9 (Conv2D)            (None, 72, 72, 64)        18496     \n",
            "_________________________________________________________________\n",
            "max_pooling2d_9 (MaxPooling2 (None, 36, 36, 64)        0         \n",
            "_________________________________________________________________\n",
            "conv2d_10 (Conv2D)           (None, 34, 34, 128)       73856     \n",
            "_________________________________________________________________\n",
            "max_pooling2d_10 (MaxPooling (None, 17, 17, 128)       0         \n",
            "_________________________________________________________________\n",
            "conv2d_11 (Conv2D)           (None, 15, 15, 128)       147584    \n",
            "_________________________________________________________________\n",
            "max_pooling2d_11 (MaxPooling (None, 7, 7, 128)         0         \n",
            "_________________________________________________________________\n",
            "flatten_2 (Flatten)          (None, 6272)              0         \n",
            "_________________________________________________________________\n",
            "dense_4 (Dense)              (None, 512)               3211776   \n",
            "_________________________________________________________________\n",
            "dense_5 (Dense)              (None, 1)                 513       \n",
            "=================================================================\n",
            "Total params: 3,453,121\n",
            "Trainable params: 3,453,121\n",
            "Non-trainable params: 0\n",
            "_________________________________________________________________\n"
          ],
          "name": "stdout"
        }
      ]
    },
    {
      "cell_type": "code",
      "metadata": {
        "id": "xNT70YauTqz1",
        "colab_type": "code",
        "colab": {}
      },
      "source": [
        "model.compile(loss='binary_crossentropy',\n",
        "              optimizer = RMSprop(lr=1e-4),\n",
        "              metrics=['acc'])"
      ],
      "execution_count": 0,
      "outputs": []
    },
    {
      "cell_type": "code",
      "metadata": {
        "id": "6We6jazUUFHS",
        "colab_type": "code",
        "outputId": "79635c38-7dba-4047-df92-dc7dfdde2c15",
        "colab": {
          "base_uri": "https://localhost:8080/",
          "height": 50
        }
      },
      "source": [
        "# All images will be rescaled by 1./255\n",
        "train_datagen = ImageDataGenerator(rescale=1./255)\n",
        "validation_datagen = ImageDataGenerator(rescale=1./255)\n",
        "\n",
        "# Flow training images in batches of 20 using train_datagen generator\n",
        "train_generator = train_datagen.flow_from_directory(\n",
        "    train_dir, # This is the source directory for training images\n",
        "    target_size = (150,150),\n",
        "    batch_size = 20,\n",
        "    # Since we use binary_crossentropy loss, we need binary labels\n",
        "    class_mode = 'binary'\n",
        ")\n",
        "\n",
        "# Flow validation images in batches of 20 using vlidation_datagen generator\n",
        "validation_generator = validation_datagen.flow_from_directory(\n",
        "    validation_dir, # This is the source directory for vlidation images\n",
        "    target_size = (150,150),\n",
        "    batch_size = 20,\n",
        "    # Since we use binary_crossentropy loss, we need binary labels\n",
        "    class_mode = 'binary'\n",
        ")"
      ],
      "execution_count": 0,
      "outputs": [
        {
          "output_type": "stream",
          "text": [
            "Found 2000 images belonging to 2 classes.\n",
            "Found 1000 images belonging to 2 classes.\n"
          ],
          "name": "stdout"
        }
      ]
    },
    {
      "cell_type": "code",
      "metadata": {
        "id": "FpIdpI0oVoeC",
        "colab_type": "code",
        "outputId": "61936168-aee8-4626-a070-042b9ca4588b",
        "colab": {
          "base_uri": "https://localhost:8080/",
          "height": 1000
        }
      },
      "source": [
        "history = model.fit_generator(\n",
        "    train_generator,\n",
        "    steps_per_epoch=100,  # 2000 images = batch_size * steps\n",
        "    epochs=100,\n",
        "    validation_data=validation_generator,\n",
        "    validation_steps=50,  # 1000 images = batch_size * steps\n",
        "    verbose = 1)"
      ],
      "execution_count": 27,
      "outputs": [
        {
          "output_type": "stream",
          "text": [
            "Epoch 1/100\n",
            "100/100 [==============================] - 110s 1s/step - loss: 0.6910 - acc: 0.5280 - val_loss: 0.6744 - val_acc: 0.5810\n",
            "Epoch 2/100\n",
            "100/100 [==============================] - 109s 1s/step - loss: 0.6505 - acc: 0.6325 - val_loss: 0.6534 - val_acc: 0.6200\n",
            "Epoch 3/100\n",
            "100/100 [==============================] - 109s 1s/step - loss: 0.6083 - acc: 0.6745 - val_loss: 0.6474 - val_acc: 0.6180\n",
            "Epoch 4/100\n",
            "100/100 [==============================] - 110s 1s/step - loss: 0.5620 - acc: 0.7215 - val_loss: 0.5729 - val_acc: 0.6910\n",
            "Epoch 5/100\n",
            "100/100 [==============================] - 110s 1s/step - loss: 0.5319 - acc: 0.7335 - val_loss: 0.5507 - val_acc: 0.7200\n",
            "Epoch 6/100\n",
            "100/100 [==============================] - 109s 1s/step - loss: 0.4941 - acc: 0.7620 - val_loss: 0.5514 - val_acc: 0.7250\n",
            "Epoch 7/100\n",
            "100/100 [==============================] - 108s 1s/step - loss: 0.4622 - acc: 0.7780 - val_loss: 0.5276 - val_acc: 0.7260\n",
            "Epoch 8/100\n",
            "100/100 [==============================] - 109s 1s/step - loss: 0.4352 - acc: 0.7900 - val_loss: 0.5505 - val_acc: 0.7250\n",
            "Epoch 9/100\n",
            "100/100 [==============================] - 109s 1s/step - loss: 0.4146 - acc: 0.8100 - val_loss: 0.5581 - val_acc: 0.7410\n",
            "Epoch 10/100\n",
            "100/100 [==============================] - 109s 1s/step - loss: 0.3920 - acc: 0.8185 - val_loss: 0.5224 - val_acc: 0.7360\n",
            "Epoch 11/100\n",
            "100/100 [==============================] - 109s 1s/step - loss: 0.3525 - acc: 0.8470 - val_loss: 0.5420 - val_acc: 0.7350\n",
            "Epoch 12/100\n",
            "100/100 [==============================] - 109s 1s/step - loss: 0.3336 - acc: 0.8655 - val_loss: 0.5332 - val_acc: 0.7440\n",
            "Epoch 13/100\n",
            "100/100 [==============================] - 109s 1s/step - loss: 0.3122 - acc: 0.8625 - val_loss: 0.5583 - val_acc: 0.7500\n",
            "Epoch 14/100\n",
            "100/100 [==============================] - 110s 1s/step - loss: 0.2924 - acc: 0.8780 - val_loss: 0.5595 - val_acc: 0.7410\n",
            "Epoch 15/100\n",
            "100/100 [==============================] - 110s 1s/step - loss: 0.2706 - acc: 0.8905 - val_loss: 0.5872 - val_acc: 0.7360\n",
            "Epoch 16/100\n",
            "100/100 [==============================] - 110s 1s/step - loss: 0.2456 - acc: 0.9050 - val_loss: 0.6853 - val_acc: 0.7170\n",
            "Epoch 17/100\n",
            "100/100 [==============================] - 110s 1s/step - loss: 0.2267 - acc: 0.9125 - val_loss: 0.6241 - val_acc: 0.7400\n",
            "Epoch 18/100\n",
            "100/100 [==============================] - 110s 1s/step - loss: 0.1988 - acc: 0.9290 - val_loss: 0.6284 - val_acc: 0.7430\n",
            "Epoch 19/100\n",
            "100/100 [==============================] - 110s 1s/step - loss: 0.1775 - acc: 0.9350 - val_loss: 0.6405 - val_acc: 0.7530\n",
            "Epoch 20/100\n",
            "100/100 [==============================] - 110s 1s/step - loss: 0.1689 - acc: 0.9340 - val_loss: 0.6129 - val_acc: 0.7550\n",
            "Epoch 21/100\n",
            "100/100 [==============================] - 109s 1s/step - loss: 0.1406 - acc: 0.9530 - val_loss: 0.6445 - val_acc: 0.7510\n",
            "Epoch 22/100\n",
            "100/100 [==============================] - 110s 1s/step - loss: 0.1301 - acc: 0.9545 - val_loss: 0.7703 - val_acc: 0.7240\n",
            "Epoch 23/100\n",
            "100/100 [==============================] - 110s 1s/step - loss: 0.1153 - acc: 0.9585 - val_loss: 0.7068 - val_acc: 0.7570\n",
            "Epoch 24/100\n",
            "100/100 [==============================] - 110s 1s/step - loss: 0.0920 - acc: 0.9730 - val_loss: 0.8048 - val_acc: 0.7300\n",
            "Epoch 25/100\n",
            "100/100 [==============================] - 110s 1s/step - loss: 0.0749 - acc: 0.9780 - val_loss: 0.7781 - val_acc: 0.7510\n",
            "Epoch 26/100\n",
            "100/100 [==============================] - 109s 1s/step - loss: 0.0694 - acc: 0.9815 - val_loss: 0.8163 - val_acc: 0.7360\n",
            "Epoch 27/100\n",
            "100/100 [==============================] - 109s 1s/step - loss: 0.0625 - acc: 0.9865 - val_loss: 0.8336 - val_acc: 0.7410\n",
            "Epoch 28/100\n",
            "100/100 [==============================] - 108s 1s/step - loss: 0.0530 - acc: 0.9855 - val_loss: 0.8938 - val_acc: 0.7510\n",
            "Epoch 29/100\n",
            "100/100 [==============================] - 108s 1s/step - loss: 0.0427 - acc: 0.9880 - val_loss: 0.9241 - val_acc: 0.7470\n",
            "Epoch 30/100\n",
            "100/100 [==============================] - 108s 1s/step - loss: 0.0430 - acc: 0.9870 - val_loss: 0.9040 - val_acc: 0.7450\n",
            "Epoch 31/100\n",
            "100/100 [==============================] - 108s 1s/step - loss: 0.0346 - acc: 0.9930 - val_loss: 1.0110 - val_acc: 0.7420\n",
            "Epoch 32/100\n",
            "100/100 [==============================] - 108s 1s/step - loss: 0.0297 - acc: 0.9915 - val_loss: 0.9883 - val_acc: 0.7450\n",
            "Epoch 33/100\n",
            "100/100 [==============================] - 108s 1s/step - loss: 0.0292 - acc: 0.9915 - val_loss: 1.0695 - val_acc: 0.7300\n",
            "Epoch 34/100\n",
            "100/100 [==============================] - 108s 1s/step - loss: 0.0261 - acc: 0.9940 - val_loss: 1.0940 - val_acc: 0.7460\n",
            "Epoch 35/100\n",
            "100/100 [==============================] - 108s 1s/step - loss: 0.0172 - acc: 0.9975 - val_loss: 1.0756 - val_acc: 0.7560\n",
            "Epoch 36/100\n",
            "100/100 [==============================] - 108s 1s/step - loss: 0.0206 - acc: 0.9960 - val_loss: 1.1740 - val_acc: 0.7470\n",
            "Epoch 37/100\n",
            "100/100 [==============================] - 108s 1s/step - loss: 0.0173 - acc: 0.9945 - val_loss: 1.2050 - val_acc: 0.7470\n",
            "Epoch 38/100\n",
            "100/100 [==============================] - 108s 1s/step - loss: 0.0211 - acc: 0.9930 - val_loss: 1.2514 - val_acc: 0.7420\n",
            "Epoch 39/100\n",
            "100/100 [==============================] - 109s 1s/step - loss: 0.0101 - acc: 0.9980 - val_loss: 1.2211 - val_acc: 0.7510\n",
            "Epoch 40/100\n",
            "100/100 [==============================] - 112s 1s/step - loss: 0.0181 - acc: 0.9920 - val_loss: 1.2888 - val_acc: 0.7470\n",
            "Epoch 41/100\n",
            "100/100 [==============================] - 110s 1s/step - loss: 0.0132 - acc: 0.9955 - val_loss: 1.3715 - val_acc: 0.7490\n",
            "Epoch 42/100\n",
            "100/100 [==============================] - 110s 1s/step - loss: 0.0095 - acc: 0.9965 - val_loss: 1.4068 - val_acc: 0.7520\n",
            "Epoch 43/100\n",
            "100/100 [==============================] - 111s 1s/step - loss: 0.0117 - acc: 0.9975 - val_loss: 1.3848 - val_acc: 0.7450\n",
            "Epoch 44/100\n",
            "100/100 [==============================] - 111s 1s/step - loss: 0.0141 - acc: 0.9950 - val_loss: 1.3528 - val_acc: 0.7420\n",
            "Epoch 45/100\n",
            "100/100 [==============================] - 111s 1s/step - loss: 0.0060 - acc: 0.9990 - val_loss: 1.4309 - val_acc: 0.7510\n",
            "Epoch 46/100\n",
            "100/100 [==============================] - 111s 1s/step - loss: 0.0096 - acc: 0.9965 - val_loss: 1.4572 - val_acc: 0.7490\n",
            "Epoch 47/100\n",
            "100/100 [==============================] - 112s 1s/step - loss: 0.0129 - acc: 0.9955 - val_loss: 1.6129 - val_acc: 0.7420\n",
            "Epoch 48/100\n",
            "100/100 [==============================] - 111s 1s/step - loss: 0.0062 - acc: 0.9990 - val_loss: 1.6047 - val_acc: 0.7390\n",
            "Epoch 49/100\n",
            "100/100 [==============================] - 111s 1s/step - loss: 0.0122 - acc: 0.9965 - val_loss: 1.5918 - val_acc: 0.7410\n",
            "Epoch 50/100\n",
            "100/100 [==============================] - 111s 1s/step - loss: 0.0109 - acc: 0.9960 - val_loss: 1.5455 - val_acc: 0.7360\n",
            "Epoch 51/100\n",
            "100/100 [==============================] - 110s 1s/step - loss: 0.0048 - acc: 0.9980 - val_loss: 1.6109 - val_acc: 0.7360\n",
            "Epoch 52/100\n",
            "100/100 [==============================] - 111s 1s/step - loss: 0.0041 - acc: 0.9990 - val_loss: 1.6601 - val_acc: 0.7430\n",
            "Epoch 53/100\n",
            "100/100 [==============================] - 111s 1s/step - loss: 0.0021 - acc: 0.9995 - val_loss: 1.9826 - val_acc: 0.7420\n",
            "Epoch 54/100\n",
            "100/100 [==============================] - 111s 1s/step - loss: 0.0209 - acc: 0.9925 - val_loss: 1.7600 - val_acc: 0.7360\n",
            "Epoch 55/100\n",
            "100/100 [==============================] - 111s 1s/step - loss: 0.0067 - acc: 0.9975 - val_loss: 1.6637 - val_acc: 0.7350\n",
            "Epoch 56/100\n",
            "100/100 [==============================] - 111s 1s/step - loss: 0.0016 - acc: 1.0000 - val_loss: 1.7282 - val_acc: 0.7430\n",
            "Epoch 57/100\n",
            "100/100 [==============================] - 111s 1s/step - loss: 0.0053 - acc: 0.9975 - val_loss: 1.8730 - val_acc: 0.7540\n",
            "Epoch 58/100\n",
            "100/100 [==============================] - 110s 1s/step - loss: 0.0066 - acc: 0.9975 - val_loss: 1.8748 - val_acc: 0.7310\n",
            "Epoch 59/100\n",
            "100/100 [==============================] - 111s 1s/step - loss: 0.0032 - acc: 0.9985 - val_loss: 1.8746 - val_acc: 0.7420\n",
            "Epoch 60/100\n",
            "100/100 [==============================] - 111s 1s/step - loss: 0.0059 - acc: 0.9975 - val_loss: 1.7632 - val_acc: 0.7460\n",
            "Epoch 61/100\n",
            "100/100 [==============================] - 112s 1s/step - loss: 0.0161 - acc: 0.9960 - val_loss: 1.8919 - val_acc: 0.7450\n",
            "Epoch 62/100\n",
            "100/100 [==============================] - 111s 1s/step - loss: 0.0020 - acc: 0.9995 - val_loss: 1.9086 - val_acc: 0.7480\n",
            "Epoch 63/100\n",
            "100/100 [==============================] - 111s 1s/step - loss: 2.1170e-04 - acc: 1.0000 - val_loss: 1.9479 - val_acc: 0.7480\n",
            "Epoch 64/100\n",
            "100/100 [==============================] - 111s 1s/step - loss: 0.0130 - acc: 0.9960 - val_loss: 1.9796 - val_acc: 0.7350\n",
            "Epoch 65/100\n",
            "100/100 [==============================] - 110s 1s/step - loss: 7.0724e-04 - acc: 1.0000 - val_loss: 1.9378 - val_acc: 0.7440\n",
            "Epoch 66/100\n",
            "100/100 [==============================] - 110s 1s/step - loss: 0.0052 - acc: 0.9970 - val_loss: 1.9096 - val_acc: 0.7550\n",
            "Epoch 67/100\n",
            "100/100 [==============================] - 112s 1s/step - loss: 7.4939e-04 - acc: 1.0000 - val_loss: 1.9797 - val_acc: 0.7550\n",
            "Epoch 68/100\n",
            "100/100 [==============================] - 111s 1s/step - loss: 0.0059 - acc: 0.9975 - val_loss: 1.9816 - val_acc: 0.7430\n",
            "Epoch 69/100\n",
            "100/100 [==============================] - 112s 1s/step - loss: 0.0045 - acc: 0.9985 - val_loss: 1.9946 - val_acc: 0.7510\n",
            "Epoch 70/100\n",
            "100/100 [==============================] - 111s 1s/step - loss: 0.0113 - acc: 0.9975 - val_loss: 2.0179 - val_acc: 0.7540\n",
            "Epoch 71/100\n",
            "100/100 [==============================] - 112s 1s/step - loss: 0.0010 - acc: 0.9995 - val_loss: 2.1315 - val_acc: 0.7520\n",
            "Epoch 72/100\n",
            "100/100 [==============================] - 111s 1s/step - loss: 1.6054e-04 - acc: 1.0000 - val_loss: 2.1542 - val_acc: 0.7570\n",
            "Epoch 73/100\n",
            "100/100 [==============================] - 111s 1s/step - loss: 0.0072 - acc: 0.9980 - val_loss: 2.2734 - val_acc: 0.7340\n",
            "Epoch 74/100\n",
            "100/100 [==============================] - 112s 1s/step - loss: 0.0050 - acc: 0.9990 - val_loss: 2.1046 - val_acc: 0.7570\n",
            "Epoch 75/100\n",
            "100/100 [==============================] - 112s 1s/step - loss: 0.0038 - acc: 0.9985 - val_loss: 2.1717 - val_acc: 0.7420\n",
            "Epoch 76/100\n",
            "100/100 [==============================] - 111s 1s/step - loss: 0.0043 - acc: 0.9990 - val_loss: 2.2298 - val_acc: 0.7470\n",
            "Epoch 77/100\n",
            "100/100 [==============================] - 112s 1s/step - loss: 7.8379e-04 - acc: 0.9995 - val_loss: 2.2170 - val_acc: 0.7390\n",
            "Epoch 78/100\n",
            "100/100 [==============================] - 110s 1s/step - loss: 0.0053 - acc: 0.9985 - val_loss: 2.1827 - val_acc: 0.7550\n",
            "Epoch 79/100\n",
            "100/100 [==============================] - 111s 1s/step - loss: 0.0081 - acc: 0.9975 - val_loss: 2.2072 - val_acc: 0.7440\n",
            "Epoch 80/100\n",
            "100/100 [==============================] - 111s 1s/step - loss: 1.1228e-04 - acc: 1.0000 - val_loss: 2.2157 - val_acc: 0.7480\n",
            "Epoch 81/100\n",
            "100/100 [==============================] - 111s 1s/step - loss: 0.0028 - acc: 0.9990 - val_loss: 2.3458 - val_acc: 0.7530\n",
            "Epoch 82/100\n",
            "100/100 [==============================] - 111s 1s/step - loss: 0.0068 - acc: 0.9985 - val_loss: 2.4550 - val_acc: 0.7480\n",
            "Epoch 83/100\n",
            "100/100 [==============================] - 111s 1s/step - loss: 0.0072 - acc: 0.9970 - val_loss: 2.4735 - val_acc: 0.7340\n",
            "Epoch 84/100\n",
            "100/100 [==============================] - 111s 1s/step - loss: 0.0016 - acc: 0.9995 - val_loss: 2.4464 - val_acc: 0.7470\n",
            "Epoch 85/100\n",
            "100/100 [==============================] - 111s 1s/step - loss: 0.0026 - acc: 0.9990 - val_loss: 2.3803 - val_acc: 0.7480\n",
            "Epoch 86/100\n",
            "100/100 [==============================] - 111s 1s/step - loss: 0.0038 - acc: 0.9985 - val_loss: 2.3247 - val_acc: 0.7540\n",
            "Epoch 87/100\n",
            "100/100 [==============================] - 111s 1s/step - loss: 1.0253e-05 - acc: 1.0000 - val_loss: 2.5085 - val_acc: 0.7570\n",
            "Epoch 88/100\n",
            "100/100 [==============================] - 111s 1s/step - loss: 0.0098 - acc: 0.9970 - val_loss: 2.8856 - val_acc: 0.7250\n",
            "Epoch 89/100\n",
            "100/100 [==============================] - 111s 1s/step - loss: 0.0035 - acc: 0.9980 - val_loss: 2.3160 - val_acc: 0.7450\n",
            "Epoch 90/100\n",
            "100/100 [==============================] - 111s 1s/step - loss: 0.0061 - acc: 0.9985 - val_loss: 2.5825 - val_acc: 0.7360\n",
            "Epoch 91/100\n",
            "100/100 [==============================] - 111s 1s/step - loss: 0.0060 - acc: 0.9980 - val_loss: 2.3820 - val_acc: 0.7470\n",
            "Epoch 92/100\n",
            "100/100 [==============================] - 111s 1s/step - loss: 6.1966e-05 - acc: 1.0000 - val_loss: 2.4802 - val_acc: 0.7440\n",
            "Epoch 93/100\n",
            "100/100 [==============================] - 111s 1s/step - loss: 0.0118 - acc: 0.9970 - val_loss: 2.3879 - val_acc: 0.7430\n",
            "Epoch 94/100\n",
            "100/100 [==============================] - 111s 1s/step - loss: 8.4298e-05 - acc: 1.0000 - val_loss: 2.5513 - val_acc: 0.7470\n",
            "Epoch 95/100\n",
            "100/100 [==============================] - 111s 1s/step - loss: 0.0012 - acc: 0.9995 - val_loss: 2.4701 - val_acc: 0.7460\n",
            "Epoch 96/100\n",
            "100/100 [==============================] - 111s 1s/step - loss: 0.0079 - acc: 0.9975 - val_loss: 2.6697 - val_acc: 0.7430\n",
            "Epoch 97/100\n",
            "100/100 [==============================] - 112s 1s/step - loss: 4.3102e-04 - acc: 1.0000 - val_loss: 2.6190 - val_acc: 0.7430\n",
            "Epoch 98/100\n",
            "100/100 [==============================] - 111s 1s/step - loss: 0.0042 - acc: 0.9980 - val_loss: 2.5320 - val_acc: 0.7440\n",
            "Epoch 99/100\n",
            "100/100 [==============================] - 112s 1s/step - loss: 0.0035 - acc: 0.9990 - val_loss: 2.7057 - val_acc: 0.7370\n",
            "Epoch 100/100\n",
            "100/100 [==============================] - 112s 1s/step - loss: 4.3162e-05 - acc: 1.0000 - val_loss: 2.5677 - val_acc: 0.7360\n"
          ],
          "name": "stdout"
        }
      ]
    },
    {
      "cell_type": "code",
      "metadata": {
        "id": "yzmoNz1EZ96E",
        "colab_type": "code",
        "colab": {
          "base_uri": "https://localhost:8080/",
          "height": 545
        },
        "outputId": "23a2e655-f603-437b-9481-409d815c6f82"
      },
      "source": [
        "import matplotlib.pyplot as plt\n",
        "acc = history.history['acc']\n",
        "val_acc = history.history['val_acc']\n",
        "loss = history.history['loss']\n",
        "val_loss = history.history['val_loss']\n",
        "\n",
        "epochs = range(len(acc))\n",
        "\n",
        "plt.plot(epochs, acc, 'bo', label='Training accuracy')\n",
        "plt.plot(epochs, val_acc, 'b', label='Validation accuracy')\n",
        "plt.title('Training and validation accuracy')\n",
        "\n",
        "plt.figure()\n",
        "\n",
        "plt.plot(epochs, loss, 'bo', label='Training Loss')\n",
        "plt.plot(epochs, val_loss, 'b', label='Validation Loss')\n",
        "plt.title('Training and Validation loss')\n",
        "\n",
        "plt.legend()\n",
        "\n",
        "plt.show()"
      ],
      "execution_count": 28,
      "outputs": [
        {
          "output_type": "display_data",
          "data": {
            "image/png": "[encoded data removed]",
            "text/plain": [
              "<Figure size 432x288 with 1 Axes>"
            ]
          },
          "metadata": {
            "tags": []
          }
        },
        {
          "output_type": "display_data",
          "data": {
            "image/png": "[encoded data removed]",
            "text/plain": [
              "<Figure size 432x288 with 1 Axes>"
            ]
          },
          "metadata": {
            "tags": []
          }
        }
      ]
    },
    {
      "cell_type": "code",
      "metadata": {
        "id": "ivw1yOGzkBIB",
        "colab_type": "code",
        "colab": {}
      },
      "source": [
        ""
      ],
      "execution_count": 0,
      "outputs": []
    },
    {
      "cell_type": "markdown",
      "metadata": {
        "id": "wIelUKvUUijg",
        "colab_type": "text"
      },
      "source": [
        "The Training Accuracy is close to 100%, and the validation accuracy is in the 70%-80% range. This is a great example of overfitting -- which in short means that it can do very well with images it has seen before, but not so well with images it hasn't. Let's see if we can do better to avoid overfitting -- and one simple method is to augment the images a bit. If you think about it, most pictures of a cat are very similar -- the ears are at the top, then the eyes, then the mouth etc. Things like the distance between the eyes and ears will always be quite similar too. \n",
        "\n",
        "What if we tweak with the images to change this up a bit -- rotate the image, squash it, etc.  That's what image augementation is all about. And there's an API that makes it easy...\n",
        "\n",
        "Now take a look at the ImageGenerator. There are properties on it that you can use to augment the image. \n",
        "\n",
        "```\n",
        "# Updated to do image augmentation\n",
        "train_datagen = ImageDataGenerator(\n",
        "      rotation_range=40,\n",
        "      width_shift_range=0.2,\n",
        "      height_shift_range=0.2,\n",
        "      shear_range=0.2,\n",
        "      zoom_range=0.2,\n",
        "      horizontal_flip=True,\n",
        "      fill_mode='nearest')\n",
        "```\n",
        "These are just a few of the options available (for more, see the Keras documentation. Let's quickly go over what we just wrote:\n",
        "\n",
        "* rotation_range is a value in degrees (0–180), a range within which to randomly rotate pictures.\n",
        "* width_shift and height_shift are ranges (as a fraction of total width or height) within which to randomly translate pictures vertically or horizontally.\n",
        "* shear_range is for randomly applying shearing transformations.\n",
        "* zoom_range is for randomly zooming inside pictures.\n",
        "* horizontal_flip is for randomly flipping half of the images horizontally. This is relevant when there are no assumptions of horizontal assymmetry (e.g. real-world pictures).\n",
        "* fill_mode is the strategy used for filling in newly created pixels, which can appear after a rotation or a width/height shift.\n",
        "\n",
        "\n",
        "Here's some code where we've added Image Augmentation. Run it to see the impact."
      ]
    },
    {
      "cell_type": "code",
      "metadata": {
        "id": "oMwnjt1HUwv0",
        "colab_type": "code",
        "colab": {}
      },
      "source": [
        "!wget --no-check-certificate \\\n",
        "    https://storage.googleapis.com/mledu-datasets/cats_and_dogs_filtered.zip \\\n",
        "    -O /tmp/cats_and_dogs_filtered.zip\n",
        "  "
      ],
      "execution_count": 0,
      "outputs": []
    },
    {
      "cell_type": "code",
      "metadata": {
        "id": "SQn2y1ymUw_J",
        "colab_type": "code",
        "colab": {}
      },
      "source": [
        "import os\n",
        "import zipfile\n",
        "import tensorflow as tf\n",
        "from tnesorflow..keras.optimizers import RMSprop\n",
        "from tensorflow.keras.preprocessing.image import ImageDataGenerator"
      ],
      "execution_count": 0,
      "outputs": []
    },
    {
      "cell_type": "code",
      "metadata": {
        "id": "-ZRY73uHUxBp",
        "colab_type": "code",
        "colab": {}
      },
      "source": [
        "local_zip = '/tmp/cats_and_dogs_filtered.zip'\n",
        "zip_ref = zipfile.ZipFile(local_zip, 'r')\n",
        "zip_ref.extractall('/tmp')\n",
        "zip_ref.close()"
      ],
      "execution_count": 0,
      "outputs": []
    },
    {
      "cell_type": "code",
      "metadata": {
        "id": "NQ_X9F7rUxD-",
        "colab_type": "code",
        "colab": {}
      },
      "source": [
        "base_dir = '/tmp/cats_and_dogs_filtered'\n",
        "train_dir = os.path.join(base_dir, 'train')\n",
        "validation_dir = os.path.join(base_dir, 'validation')"
      ],
      "execution_count": 0,
      "outputs": []
    },
    {
      "cell_type": "code",
      "metadata": {
        "id": "_4peb59fZ1MP",
        "colab_type": "code",
        "colab": {}
      },
      "source": [
        "# Directory with our training cat pictures\n",
        "train_cats_dir = os.path.join(train_dir, 'cats')\n",
        "\n",
        "# Directory with our training dog pictures\n",
        "train_dogs_dir = os.path.join(train_dir, 'dogs')\n",
        "\n",
        "# Directory with our validation cat pictures\n",
        "validation_cats_dir = os.path.join(validation_dir, 'cats')\n",
        "\n",
        "# Directory with our validation dog pictures\n",
        "validation_dogs_dir = os.path.join(validation_dir, 'dogs')"
      ],
      "execution_count": 0,
      "outputs": []
    },
    {
      "cell_type": "code",
      "metadata": {
        "id": "dK9nUeZpZ1O0",
        "colab_type": "code",
        "colab": {}
      },
      "source": [
        "model = tf.keras.models.Sequential([\n",
        "    tf.keras.layers.Conv2D(32, (3,3), activation='relu', input_shape=(150, 150, 3)),\n",
        "    tf.keras.layers.MaxPooling2D(2, 2),\n",
        "    tf.keras.layers.Conv2D(64, (3,3), activation='relu'),\n",
        "    tf.keras.layers.MaxPooling2D(2,2),\n",
        "    tf.keras.layers.Conv2D(128, (3,3), activation='relu'),\n",
        "    tf.keras.layers.MaxPooling2D(2,2),\n",
        "    tf.keras.layers.Conv2D(128, (3,3), activation='relu'),\n",
        "    tf.keras.layers.MaxPooling2D(2,2),\n",
        "    tf.keras.layers.Flatten(),\n",
        "    tf.keras.layers.Dense(512, activation='relu'),\n",
        "    tf.keras.layers.Dense(1, activation='sigmoid')\n",
        "])"
      ],
      "execution_count": 0,
      "outputs": []
    },
    {
      "cell_type": "code",
      "metadata": {
        "id": "HKYEVHNiZ1be",
        "colab_type": "code",
        "colab": {}
      },
      "source": [
        "model.compile(loss='binary_crossentropy',\n",
        "              optimizer=RMSprop(lr=1e-4),\n",
        "              metrics=['acc'])"
      ],
      "execution_count": 0,
      "outputs": []
    },
    {
      "cell_type": "code",
      "metadata": {
        "id": "SXnIjI4XaI-z",
        "colab_type": "code",
        "colab": {}
      },
      "source": [
        "# This code has changed. Now instead of the ImageGenerator just rescaling\n",
        "# the image, we also rotate and do other operations\n",
        "# Updated to do image augmentation\n",
        "train_datagen = ImageDataGenerator(\n",
        "      rescale=1./255,\n",
        "      rotation_range=40,\n",
        "      width_shift_range=0.2,\n",
        "      height_shift_range=0.2,\n",
        "      shear_range=0.2,\n",
        "      zoom_range=0.2,\n",
        "      horizontal_flip=True,\n",
        "      fill_mode='nearest')\n",
        "\n",
        "test_datagen = ImageDataGenerator(rescale=1./255)"
      ],
      "execution_count": 0,
      "outputs": []
    },
    {
      "cell_type": "code",
      "metadata": {
        "id": "-t6_wNVpcaD4",
        "colab_type": "code",
        "outputId": "9ce3e732-392a-4234-a264-3560cd2fc68f",
        "colab": {
          "base_uri": "https://localhost:8080/",
          "height": 50
        }
      },
      "source": [
        "# Flow training images in batches of 20 using train_datagen generator\n",
        "train_generator = train_datagen.flow_from_directory(\n",
        "      train_dir,\n",
        "      target_size=(150,150),\n",
        "      batch_size=20,\n",
        "      # Since we use binary_crossentropy loss, we need binary labels\n",
        "      class_mode='binary')\n",
        "\n",
        "# Flow training images in batches of 20 using validation_datagen generator\n",
        "validation_generator = validation_datagen.flow_from_directory(\n",
        "      validation_dir,\n",
        "      target_size=(150,150),\n",
        "      batch_size=20,\n",
        "      # Since we use binary_crossentropy loss, we need binary labels\n",
        "      class_mode='binary')"
      ],
      "execution_count": 37,
      "outputs": [
        {
          "output_type": "stream",
          "text": [
            "Found 2000 images belonging to 2 classes.\n",
            "Found 1000 images belonging to 2 classes.\n"
          ],
          "name": "stdout"
        }
      ]
    },
    {
      "cell_type": "code",
      "metadata": {
        "id": "6NLCQF__caGl",
        "colab_type": "code",
        "colab": {
          "base_uri": "https://localhost:8080/",
          "height": 1000
        },
        "outputId": "51595321-ac46-4a9f-c70a-cf4d3eb25fba"
      },
      "source": [
        "history = model.fit_generator(\n",
        "      train_generator,\n",
        "      steps_per_epoch=100,   # 2000 images = batch_size * steps\n",
        "      epochs=30,\n",
        "      validation_data = validation_generator,\n",
        "      validation_steps = 50, # 1000 images = batch_size * steps\n",
        "      verbose=1)"
      ],
      "execution_count": 41,
      "outputs": [
        {
          "output_type": "stream",
          "text": [
            "Epoch 1/30\n",
            "100/100 [==============================] - 120s 1s/step - loss: 0.6466 - acc: 0.6195 - val_loss: 0.6271 - val_acc: 0.6060\n",
            "Epoch 2/30\n",
            "100/100 [==============================] - 118s 1s/step - loss: 0.6343 - acc: 0.6275 - val_loss: 0.5892 - val_acc: 0.6870\n",
            "Epoch 3/30\n",
            "100/100 [==============================] - 117s 1s/step - loss: 0.6236 - acc: 0.6495 - val_loss: 0.6103 - val_acc: 0.6530\n",
            "Epoch 4/30\n",
            "100/100 [==============================] - 117s 1s/step - loss: 0.6137 - acc: 0.6585 - val_loss: 0.5977 - val_acc: 0.6630\n",
            "Epoch 5/30\n",
            "100/100 [==============================] - 118s 1s/step - loss: 0.6056 - acc: 0.6595 - val_loss: 0.6225 - val_acc: 0.6470\n",
            "Epoch 6/30\n",
            "100/100 [==============================] - 118s 1s/step - loss: 0.5947 - acc: 0.6830 - val_loss: 0.5575 - val_acc: 0.7110\n",
            "Epoch 7/30\n",
            "100/100 [==============================] - 117s 1s/step - loss: 0.5878 - acc: 0.6785 - val_loss: 0.5774 - val_acc: 0.6830\n",
            "Epoch 8/30\n",
            "100/100 [==============================] - 117s 1s/step - loss: 0.5826 - acc: 0.6940 - val_loss: 0.5403 - val_acc: 0.7280\n",
            "Epoch 9/30\n",
            "100/100 [==============================] - 117s 1s/step - loss: 0.5741 - acc: 0.6905 - val_loss: 0.5583 - val_acc: 0.7060\n",
            "Epoch 10/30\n",
            "100/100 [==============================] - 117s 1s/step - loss: 0.5759 - acc: 0.6950 - val_loss: 0.6127 - val_acc: 0.6560\n",
            "Epoch 11/30\n",
            "100/100 [==============================] - 117s 1s/step - loss: 0.5813 - acc: 0.6900 - val_loss: 0.5363 - val_acc: 0.7260\n",
            "Epoch 12/30\n",
            "100/100 [==============================] - 117s 1s/step - loss: 0.5673 - acc: 0.7005 - val_loss: 0.5299 - val_acc: 0.7370\n",
            "Epoch 13/30\n",
            "100/100 [==============================] - 117s 1s/step - loss: 0.5550 - acc: 0.7105 - val_loss: 0.5132 - val_acc: 0.7320\n",
            "Epoch 14/30\n",
            "100/100 [==============================] - 117s 1s/step - loss: 0.5418 - acc: 0.7155 - val_loss: 0.5128 - val_acc: 0.7450\n",
            "Epoch 15/30\n",
            "100/100 [==============================] - 117s 1s/step - loss: 0.5611 - acc: 0.7035 - val_loss: 0.5025 - val_acc: 0.7350\n",
            "Epoch 16/30\n",
            "100/100 [==============================] - 117s 1s/step - loss: 0.5423 - acc: 0.7185 - val_loss: 0.5204 - val_acc: 0.7250\n",
            "Epoch 17/30\n",
            "100/100 [==============================] - 117s 1s/step - loss: 0.5484 - acc: 0.7185 - val_loss: 0.5065 - val_acc: 0.7330\n",
            "Epoch 18/30\n",
            "100/100 [==============================] - 117s 1s/step - loss: 0.5358 - acc: 0.7375 - val_loss: 0.5007 - val_acc: 0.7450\n",
            "Epoch 19/30\n",
            "100/100 [==============================] - 117s 1s/step - loss: 0.5354 - acc: 0.7265 - val_loss: 0.4946 - val_acc: 0.7470\n",
            "Epoch 20/30\n",
            "100/100 [==============================] - 115s 1s/step - loss: 0.5275 - acc: 0.7355 - val_loss: 0.4880 - val_acc: 0.7510\n",
            "Epoch 21/30\n",
            "100/100 [==============================] - 115s 1s/step - loss: 0.5185 - acc: 0.7410 - val_loss: 0.4863 - val_acc: 0.7560\n",
            "Epoch 22/30\n",
            "100/100 [==============================] - 114s 1s/step - loss: 0.5207 - acc: 0.7295 - val_loss: 0.5175 - val_acc: 0.7460\n",
            "Epoch 23/30\n",
            "100/100 [==============================] - 114s 1s/step - loss: 0.5229 - acc: 0.7380 - val_loss: 0.5075 - val_acc: 0.7520\n",
            "Epoch 24/30\n",
            "100/100 [==============================] - 114s 1s/step - loss: 0.5151 - acc: 0.7380 - val_loss: 0.5574 - val_acc: 0.7080\n",
            "Epoch 25/30\n",
            "100/100 [==============================] - 114s 1s/step - loss: 0.5131 - acc: 0.7530 - val_loss: 0.4812 - val_acc: 0.7500\n",
            "Epoch 26/30\n",
            "100/100 [==============================] - 115s 1s/step - loss: 0.5099 - acc: 0.7555 - val_loss: 0.4672 - val_acc: 0.7850\n",
            "Epoch 27/30\n",
            "100/100 [==============================] - 116s 1s/step - loss: 0.5136 - acc: 0.7445 - val_loss: 0.4663 - val_acc: 0.7690\n",
            "Epoch 28/30\n",
            "100/100 [==============================] - 115s 1s/step - loss: 0.5038 - acc: 0.7590 - val_loss: 0.4945 - val_acc: 0.7580\n",
            "Epoch 29/30\n",
            "100/100 [==============================] - 114s 1s/step - loss: 0.5027 - acc: 0.7535 - val_loss: 0.4864 - val_acc: 0.7630\n",
            "Epoch 30/30\n",
            "100/100 [==============================] - 114s 1s/step - loss: 0.5017 - acc: 0.7565 - val_loss: 0.4774 - val_acc: 0.7700\n"
          ],
          "name": "stdout"
        }
      ]
    },
    {
      "cell_type": "code",
      "metadata": {
        "id": "ihhqHh2acaKu",
        "colab_type": "code",
        "colab": {
          "base_uri": "https://localhost:8080/",
          "height": 545
        },
        "outputId": "93445aab-a19f-4058-c21f-c9e3541cb254"
      },
      "source": [
        "import matplotlib.pyplot as plt\n",
        "acc = history.history['acc']\n",
        "val_acc = history.history['val_acc']\n",
        "loss = history.history['loss']\n",
        "val_loss = history.history['val_loss']\n",
        "\n",
        "epochs = range(len(acc))\n",
        "\n",
        "plt.plot(epochs, acc, 'bo', label='Training accuracy')\n",
        "plt.plot(epochs, val_acc, 'b', label='Validation accuracy')\n",
        "plt.title('Training and validation accuracy')\n",
        "\n",
        "plt.figure()\n",
        "\n",
        "plt.plot(epochs, loss, 'bo', label='Training Loss')\n",
        "plt.plot(epochs, val_loss, 'b', label='Validation Loss')\n",
        "plt.title('Training and validation loss')\n",
        "plt.legend()\n",
        "\n",
        "plt.show()"
      ],
      "execution_count": 42,
      "outputs": [
        {
          "output_type": "display_data",
          "data": {
            "image/png": "[encoded data removed]",
            "text/plain": [
              "<Figure size 432x288 with 1 Axes>"
            ]
          },
          "metadata": {
            "tags": []
          }
        },
        {
          "output_type": "display_data",
          "data": {
            "image/png": "[encoded data removed]",
            "text/plain": [
              "<Figure size 432x288 with 1 Axes>"
            ]
          },
          "metadata": {
            "tags": []
          }
        }
      ]
    },
    {
      "cell_type": "code",
      "metadata": {
        "id": "0xvsRFnR3rWu",
        "colab_type": "code",
        "colab": {}
      },
      "source": [
        ""
      ],
      "execution_count": 0,
      "outputs": []
    },
    {
      "cell_type": "markdown",
      "metadata": {
        "id": "GMHLw1QY3rwZ",
        "colab_type": "text"
      },
      "source": [
        "Use **dropout** in the model to improve the performence:"
      ]
    },
    {
      "cell_type": "code",
      "metadata": {
        "id": "W-dVZM963vso",
        "colab_type": "code",
        "colab": {}
      },
      "source": [
        "!wget --no-check-certificate \\\n",
        "    https://storage.googleapis.com/mledu-datasets/cats_and_dogs_filtered.zip \\\n",
        "    -O /tmp/cats_and_dogs_filtered.zip\n",
        "  "
      ],
      "execution_count": 0,
      "outputs": []
    },
    {
      "cell_type": "code",
      "metadata": {
        "id": "_HevGOGg35cL",
        "colab_type": "code",
        "colab": {}
      },
      "source": [
        "import os\n",
        "import zipfile\n",
        "import tensorflow as tf\n",
        "from tensorflow.keras.optimizers import RMSporp\n",
        "from tensorflow.keras.preprocessing.image import ImageDataGenerator"
      ],
      "execution_count": 0,
      "outputs": []
    },
    {
      "cell_type": "code",
      "metadata": {
        "id": "3aTmHoX34vsy",
        "colab_type": "code",
        "colab": {}
      },
      "source": [
        "local_zip = '/tmp/cats_and_dogs_filtered.zip'\n",
        "zip_ref = zipfile.ZipFile(local_zip, 'r')\n",
        "zip_ref.extractall('/tmp')\n",
        "zip_ref.close()"
      ],
      "execution_count": 0,
      "outputs": []
    },
    {
      "cell_type": "code",
      "metadata": {
        "id": "lGjaE2ua4oOU",
        "colab_type": "code",
        "colab": {}
      },
      "source": [
        "base_dir = '/tmp/cats_and_dogs_filtered'\n",
        "\n",
        "train_dir = os.path.join(base_dir, 'train')\n",
        "validation_dir = os.path.join(base_dir, 'validation')"
      ],
      "execution_count": 0,
      "outputs": []
    },
    {
      "cell_type": "code",
      "metadata": {
        "id": "y__CrVA85evn",
        "colab_type": "code",
        "colab": {}
      },
      "source": [
        "# Directory with our training cat pictures\n",
        "train_cats_dir = os.path.join(train_dir, 'cats')\n",
        "\n",
        "# Directory with our training dog pictures\n",
        "train_dogs_dir = os.path.join(train_dir, 'dogs')\n",
        "\n",
        "# Directory with our validation cat pictures\n",
        "validation_cats_dir = os.path.join(validation_dir, 'cats')\n",
        "\n",
        "# Directory with our validation dog pictures\n",
        "validation_dogs_dir = os.path.join(validation_dir, 'dogs')"
      ],
      "execution_count": 0,
      "outputs": []
    },
    {
      "cell_type": "code",
      "metadata": {
        "id": "WkTlO47_5eyH",
        "colab_type": "code",
        "colab": {}
      },
      "source": [
        "model = tf.keras.models.Sequential([\n",
        "    tf.keras.layers.Conv2D(32, (3,3), activation='relu', input_shape=(150, 150, 3)),\n",
        "    tf.keras.layers.MaxPooling2D(2, 2),\n",
        "    tf.keras.layers.Conv2D(64, (3,3), activation='relu'),\n",
        "    tf.keras.layers.MaxPooling2D(2,2),\n",
        "    tf.keras.layers.Conv2D(128, (3,3), activation='relu'),\n",
        "    tf.keras.layers.MaxPooling2D(2,2),\n",
        "    tf.keras.layers.Conv2D(128, (3,3), activation='relu'),\n",
        "    tf.keras.layers.MaxPooling2D(2,2),\n",
        "    tf.keras.layers.Dropout(0.5), # adding dropout layer here !!!!\n",
        "    tf.keras.layers.Flatten(),\n",
        "    tf.keras.layers.Dense(512, activation='relu'),\n",
        "    tf.keras.layers.Dense(1, activation='sigmoid')\n",
        "])"
      ],
      "execution_count": 0,
      "outputs": []
    },
    {
      "cell_type": "code",
      "metadata": {
        "id": "8fHf6XQH4oRM",
        "colab_type": "code",
        "colab": {}
      },
      "source": [
        "model.compile(loss='binary_crossentropy',\n",
        "              optimizer=RMSprop(lr=1e-4),\n",
        "              metrics=['acc'])"
      ],
      "execution_count": 0,
      "outputs": []
    },
    {
      "cell_type": "code",
      "metadata": {
        "id": "LVHm2TR26Dz9",
        "colab_type": "code",
        "colab": {}
      },
      "source": [
        "# This code has changed. Now instead of the ImageGenerator just rescaling\n",
        "# the image, we also rotate and do other operations\n",
        "# Updated to do image augmentation\n",
        "train_datagen = ImageDataGenerator(\n",
        "      rescale=1./255,\n",
        "      rotation_range = 40,\n",
        "      width_shift_range=0.2,\n",
        "      height_shift_range=0.2,\n",
        "      shear_range=0.2,\n",
        "      zoom_range=0.2,\n",
        "      horizontal_flip=True,\n",
        "      fill_mode='nearest'\n",
        "      )\n",
        "\n",
        "validation_datagen = ImageDataGenerator(rescale=1./255)"
      ],
      "execution_count": 0,
      "outputs": []
    },
    {
      "cell_type": "code",
      "metadata": {
        "id": "KkvSK_gD6D2Y",
        "colab_type": "code",
        "colab": {
          "base_uri": "https://localhost:8080/",
          "height": 50
        },
        "outputId": "342ce5a8-6b39-43b7-c67f-59093b38b75a"
      },
      "source": [
        "# Flow training images in batches of 20 using train_datagen generator\n",
        "train_generator = train_datagen.flow_from_directory(\n",
        "      train_dir,\n",
        "      target_size=(150,150),\n",
        "      batch_size=20,\n",
        "      # Since we use binary_crossentropy loss, we need binary labels\n",
        "      class_mode='binary')\n",
        "\n",
        "# Flow training images in batches of 20 using validation_datagen generator\n",
        "validation_generator = validation_datagen.flow_from_directory(\n",
        "      validation_dir,\n",
        "      target_size=(150,150),\n",
        "      batch_size=20,\n",
        "      # Since we use binary_crossentropy loss, we need binary labels\n",
        "      class_mode='binary')"
      ],
      "execution_count": 49,
      "outputs": [
        {
          "output_type": "stream",
          "text": [
            "Found 2000 images belonging to 2 classes.\n",
            "Found 1000 images belonging to 2 classes.\n"
          ],
          "name": "stdout"
        }
      ]
    },
    {
      "cell_type": "code",
      "metadata": {
        "id": "zEgChYQN_cFY",
        "colab_type": "code",
        "colab": {
          "base_uri": "https://localhost:8080/",
          "height": 1000
        },
        "outputId": "ffb0479b-87a3-4f80-eb41-98bfd59a3453"
      },
      "source": [
        "history = model.fit_generator(\n",
        "      train_generator,\n",
        "      steps_per_epoch=100,  # 2000 images = batch_size * steps\n",
        "      epochs=30,\n",
        "      validation_data=validation_generator,\n",
        "      validation_steps=50,\n",
        "      verbose=1)"
      ],
      "execution_count": 51,
      "outputs": [
        {
          "output_type": "stream",
          "text": [
            "Epoch 1/30\n",
            "100/100 [==============================] - 116s 1s/step - loss: 0.6956 - acc: 0.5055 - val_loss: 0.7070 - val_acc: 0.5000\n",
            "Epoch 2/30\n",
            "100/100 [==============================] - 117s 1s/step - loss: 0.6864 - acc: 0.5460 - val_loss: 0.6842 - val_acc: 0.5540\n",
            "Epoch 3/30\n",
            "100/100 [==============================] - 118s 1s/step - loss: 0.6783 - acc: 0.5610 - val_loss: 0.6499 - val_acc: 0.6160\n",
            "Epoch 4/30\n",
            "100/100 [==============================] - 118s 1s/step - loss: 0.6688 - acc: 0.5805 - val_loss: 0.6702 - val_acc: 0.5290\n",
            "Epoch 5/30\n",
            "100/100 [==============================] - 118s 1s/step - loss: 0.6551 - acc: 0.6060 - val_loss: 0.6122 - val_acc: 0.6610\n",
            "Epoch 6/30\n",
            "100/100 [==============================] - 116s 1s/step - loss: 0.6471 - acc: 0.6035 - val_loss: 0.5950 - val_acc: 0.6810\n",
            "Epoch 7/30\n",
            "100/100 [==============================] - 117s 1s/step - loss: 0.6366 - acc: 0.6325 - val_loss: 0.5907 - val_acc: 0.6970\n",
            "Epoch 8/30\n",
            "100/100 [==============================] - 117s 1s/step - loss: 0.6131 - acc: 0.6595 - val_loss: 0.6209 - val_acc: 0.6450\n",
            "Epoch 9/30\n",
            "100/100 [==============================] - 117s 1s/step - loss: 0.6172 - acc: 0.6495 - val_loss: 0.5756 - val_acc: 0.6840\n",
            "Epoch 10/30\n",
            "100/100 [==============================] - 117s 1s/step - loss: 0.6116 - acc: 0.6635 - val_loss: 0.5588 - val_acc: 0.7090\n",
            "Epoch 11/30\n",
            "100/100 [==============================] - 117s 1s/step - loss: 0.6031 - acc: 0.6705 - val_loss: 0.5591 - val_acc: 0.7120\n",
            "Epoch 12/30\n",
            "100/100 [==============================] - 115s 1s/step - loss: 0.5881 - acc: 0.6785 - val_loss: 0.5506 - val_acc: 0.7070\n",
            "Epoch 13/30\n",
            "100/100 [==============================] - 115s 1s/step - loss: 0.5938 - acc: 0.6825 - val_loss: 0.5443 - val_acc: 0.7200\n",
            "Epoch 14/30\n",
            "100/100 [==============================] - 116s 1s/step - loss: 0.5837 - acc: 0.6925 - val_loss: 0.5740 - val_acc: 0.6670\n",
            "Epoch 15/30\n",
            "100/100 [==============================] - 115s 1s/step - loss: 0.5754 - acc: 0.7010 - val_loss: 0.5326 - val_acc: 0.7290\n",
            "Epoch 16/30\n",
            "100/100 [==============================] - 115s 1s/step - loss: 0.5742 - acc: 0.6930 - val_loss: 0.6010 - val_acc: 0.6920\n",
            "Epoch 17/30\n",
            "100/100 [==============================] - 116s 1s/step - loss: 0.5647 - acc: 0.7060 - val_loss: 0.5313 - val_acc: 0.7190\n",
            "Epoch 18/30\n",
            "100/100 [==============================] - 116s 1s/step - loss: 0.5604 - acc: 0.7005 - val_loss: 0.5743 - val_acc: 0.6940\n",
            "Epoch 19/30\n",
            "100/100 [==============================] - 115s 1s/step - loss: 0.5619 - acc: 0.7085 - val_loss: 0.5432 - val_acc: 0.7230\n",
            "Epoch 20/30\n",
            "100/100 [==============================] - 116s 1s/step - loss: 0.5598 - acc: 0.7035 - val_loss: 0.5443 - val_acc: 0.7070\n",
            "Epoch 21/30\n",
            "100/100 [==============================] - 115s 1s/step - loss: 0.5602 - acc: 0.7105 - val_loss: 0.5281 - val_acc: 0.7220\n",
            "Epoch 22/30\n",
            "100/100 [==============================] - 115s 1s/step - loss: 0.5466 - acc: 0.7195 - val_loss: 0.5074 - val_acc: 0.7420\n",
            "Epoch 23/30\n",
            "100/100 [==============================] - 115s 1s/step - loss: 0.5402 - acc: 0.7195 - val_loss: 0.5018 - val_acc: 0.7430\n",
            "Epoch 24/30\n",
            "100/100 [==============================] - 115s 1s/step - loss: 0.5355 - acc: 0.7365 - val_loss: 0.5239 - val_acc: 0.7330\n",
            "Epoch 25/30\n",
            "100/100 [==============================] - 115s 1s/step - loss: 0.5405 - acc: 0.7275 - val_loss: 0.4995 - val_acc: 0.7470\n",
            "Epoch 26/30\n",
            "100/100 [==============================] - 115s 1s/step - loss: 0.5318 - acc: 0.7300 - val_loss: 0.4968 - val_acc: 0.7400\n",
            "Epoch 27/30\n",
            "100/100 [==============================] - 115s 1s/step - loss: 0.5289 - acc: 0.7335 - val_loss: 0.5010 - val_acc: 0.7450\n",
            "Epoch 28/30\n",
            "100/100 [==============================] - 115s 1s/step - loss: 0.5238 - acc: 0.7390 - val_loss: 0.5202 - val_acc: 0.7300\n",
            "Epoch 29/30\n",
            "100/100 [==============================] - 115s 1s/step - loss: 0.5158 - acc: 0.7350 - val_loss: 0.4837 - val_acc: 0.7510\n",
            "Epoch 30/30\n",
            "100/100 [==============================] - 115s 1s/step - loss: 0.5311 - acc: 0.7355 - val_loss: 0.4713 - val_acc: 0.7690\n"
          ],
          "name": "stdout"
        }
      ]
    },
    {
      "cell_type": "code",
      "metadata": {
        "id": "kyx6BeVR_9Ij",
        "colab_type": "code",
        "colab": {
          "base_uri": "https://localhost:8080/",
          "height": 545
        },
        "outputId": "19849b34-5e37-4ca9-80f8-bdc7a6458239"
      },
      "source": [
        "import matplotlib.pyplot as plt\n",
        "acc = history.history['acc']\n",
        "val_acc = history.history['val_acc']\n",
        "loss = history.history['loss']\n",
        "val_loss = history.history['val_loss']\n",
        "\n",
        "epochs = range(len(acc))\n",
        "\n",
        "plt.plot(epochs, acc, 'bo', label='Training_accracy')\n",
        "plt.plot(epochs, val_acc, 'b', label='Validation_accuracy')\n",
        "plt.title('Training and validation accuracy')\n",
        "\n",
        "fig = plt.figure()\n",
        "\n",
        "plt.plot(epochs, loss, 'bo', label='Training_loss')\n",
        "plt.plot(epochs, val_loss, 'b', label='Validation_loss')\n",
        "plt.title('Training and validation loss')\n",
        "plt.legend()\n",
        "\n",
        "plt.show()"
      ],
      "execution_count": 52,
      "outputs": [
        {
          "output_type": "display_data",
          "data": {
            "image/png": "[encoded data removed]",
            "text/plain": [
              "<Figure size 432x288 with 1 Axes>"
            ]
          },
          "metadata": {
            "tags": []
          }
        },
        {
          "output_type": "display_data",
          "data": {
            "image/png": "[encoded data removed]",
            "text/plain": [
              "<Figure size 432x288 with 1 Axes>"
            ]
          },
          "metadata": {
            "tags": []
          }
        }
      ]
    },
    {
      "cell_type": "code",
      "metadata": {
        "id": "Fli-nXCsUUie",
        "colab_type": "code",
        "colab": {}
      },
      "source": [
        ""
      ],
      "execution_count": 0,
      "outputs": []
    }
  ]
}